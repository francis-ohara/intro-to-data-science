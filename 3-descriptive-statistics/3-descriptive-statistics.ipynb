{
 "cells": [
  {
   "cell_type": "markdown",
   "metadata": {},
   "source": [
    "# Research Topics\n",
    "1. Types of Data types\n",
    "2. Sample and estimated\n",
    "3. mean, variance, and standard deviation\n",
    "4. Linear transformation of means\n",
    "5. linear transformation of variance\n",
    "6. Range\n",
    "7. Quartiles\n",
    "8. Percentiles\n",
    "9. Covariance and Pearson’s rank correlation\n",
    "10. Handling Missing values\n",
    "11. Detecting outliers\n",
    "12. Handling outliers"
   ]
  },
  {
   "cell_type": "markdown",
   "source": [
    "## 1. Types of Data\n",
    "There are two main types of data encountered in data science:\n",
    "1. Qualitative Data\n",
    "2. Quantitative Data\n",
    "\n",
    "### Qualitative Data\n",
    "Qualitative data or **categorical data**, refers to data that fits into distinct categories and which is non-numerical in nature.\n",
    "E.g. Data about hair color(black, blonde, brunette, red) or sex(male, female).\n",
    "\n",
    "There are two kinds of qualitative data:\n",
    "1. **Nominal**: This refers to qualitative data that follows a specific order or ranking. Certain values can be said to be greater than other values.\n",
    "E.g. test grade = \\[A, B, C, D, E], socioeconomic status = \\[low, middle, high]\n",
    "\n",
    "2. **Ordinal**: This refers to qualitative data that does not follow any specific order or ranking. No value can be said to be greater than another value.\n",
    "E.g. eye color = \\[blue, black, brown, grey], weather = \\[cloudy, sunny, windy, snowy]\n",
    "\n",
    "\n",
    "### Quantitative Data\n",
    "Quantitative data or **numerical data** refers to data that is numerical in nature or which is expressed as numerical values.\n",
    "E.g. temperature = \\[101, 37.5, 25, 0]\n",
    "\n",
    "There are to kinds of quantitative data:\n",
    "1. **Discrete**: This refers to numerical data that can only take up a limited number of values over any specific numeric interval. Such data is typically obtained by counting.\n",
    "E.g. age = \\[18, 9, 25, 88], number of students in different classes = \\[15, 20, 17, 101]\n",
    "2. **Continuous**: This refers to data that can take up an uncountable number of values between any specific numeric interval. Such data is typically obtained by measuring.\n",
    "E.g. Height of person = \\[5, 5.5, 5.59, 5.5559, 9.23456783]"
   ],
   "metadata": {
    "collapsed": false
   }
  },
  {
   "cell_type": "markdown",
   "source": [
    "## 2. Sampling and Estimation\n",
    "### What is sampling?\n",
    "In statistical studies, the **population** refers to the total number of observations obtained for the study.\n",
    "Due to time, cost, and other constraints, it is difficult to collect data from every element of the population for studying.\n",
    "To solve this problem, a subset of the population, referred to as the **sample** is selected and observed, and based on data obtained from the sample, an estimate is made concerning the entire population.\n",
    "\n",
    "Sampling is therefore the act of taking a part or a portion of a population to represent the entire population during a research study. The sample is the group of individuals who will actually participate in the research. These people are only a subset of the total population the study wants to obtain information about.\n",
    "\n",
    "There are two types of sampling methods:\n",
    "1. Probability sampling methods\n",
    "2. Non-Probability sampling methods\n",
    "\n",
    "**Probability Sampling Methods**\n",
    "These methods involve random selection and allow you to make strong statistical inferences about the whole group.\n",
    "The different probability sampling methods are:\n",
    "1. *Simple Random Sample*: In a simple random sample, every member of the population has an equal chance of being selected. Your sampling frame should include the whole population.With this type of sampling tools like simple random number generator will be needed.\n",
    "2. *Systematic sampling*: Systematic sampling is similar to simple random sampling, but it is usually slightly easier to conduct. Every member of the population is listed with a number, but instead of randomly generating numbers, individuals are chosen at regular intervals.\n",
    "3. *Stratified sampling*: Stratified sampling involves dividing the population into subpopulations that may differ in important ways. It allows you draw more precise conclusions by ensuring that every subgroup is properly represented in the sample.\n",
    "4. *Cluster sampling*: Cluster sampling also involves dividing the population into subgroups, but each subgroup should have similar characteristics to the whole sample. Instead of sampling individuals from each subgroup, you randomly select entire subgroups.\n",
    "\n",
    "**Non-Probability Sampling**\n",
    "These methods involve non-random selection based on convenience or other criteria, allowing you to easily collect data.\n",
    "The different non-probability sampling methods include:\n",
    "1. *Convenience sampling*: A convenience sample includes the individuals who are most accessible to the researcher.\n",
    "2. *Voluntary response sampling*: Similar to a convenience sample, a voluntary response sample is mainly based on ease of access. Instead of the researcher choosing participants and directly contacting them, people volunteer themselves.\n",
    "3. *Purposive sampling*: This type of sampling, also known as judgment sampling, involves the researcher using their expertise to select a sample that is most useful to the purposes of the research.\n",
    "4. *Snowball sampling*: If the population is hard to access, snowball sampling can be used to recruit participants via other participants. The number of people you have access to “snowballs” as you get in contact with more people."
   ],
   "metadata": {
    "collapsed": false
   },
   "outputs": []
  },
  {
   "cell_type": "markdown",
   "source": [
    "\n",
    "### What is Estimation?\n",
    "As alluded to earlier, estimation in statistics is any of the numerous procedures used to calculate the value of some property of a population from observations of a sample drawn from the population.\n",
    "\n",
    "**Types of Estimation**\n",
    "1. *Point Estimate*: A point estimate of a population parameter is a single value most likely to express the value of the parameter.\n",
    "E.g. Based on the sample, we can estimate the mean age of a population to be 17.5 years.\n",
    "2. *Interval Estimate*: An interval estimate is defined by two numbers, between which a population parameter is said to lie.\n",
    "E.g. Based on the sample, we can estimate the mean age of a population to lie between 16 years and 18 years.\n",
    "\n"
   ],
   "metadata": {
    "collapsed": false
   }
  },
  {
   "cell_type": "markdown",
   "source": [
    "## 3. Mean, Variance, and Standard Deviation\n",
    "The mean, variance, and standard deviation are key features used to describe a data set."
   ],
   "metadata": {
    "collapsed": false
   }
  },
  {
   "cell_type": "markdown",
   "source": [
    "### Mean\n",
    "The mean of is a measure of central tendency in descriptive statistics which shows the average value of a characteristic in a given statistical sample.\n",
    "In simple terms, the mean is the average value of a particular data set.\n",
    "\n",
    "Formula to calculate the arithmetic mean for an individual data series:\n"
   ],
   "metadata": {
    "collapsed": false
   }
  },
  {
   "cell_type": "markdown",
   "source": [
    "### Standard Deviation\n",
    "The standard deviation of a data set measures how much the values within the data set differ from the mean or average.\n",
    "It is therefore a measure of how spread apart or dispersed a data set is.\n",
    "The higher the standard deviation of a data set, the more spread apart the values within it are, and the lower the standard deviation of a data set, the more condensed the values within it are.\n",
    "\n",
    "The formula for finding the standard deviation of a data set is:\n",
    " $$\\sqrt{\\frac{\\sum (x_i - \\mu)^2}{N}}$$"
   ],
   "metadata": {
    "collapsed": false
   }
  },
  {
   "cell_type": "markdown",
   "source": [
    "## 11. Detecting Outliers\n",
    "Outliers or anomalies in a data set refer to data values that are unusually separated from other values within the data set.\n",
    "For instance, in the data set `score = [1, 2, 3, 2, -1, 4, 5000]`, `5000` is an outlier as it is unusually larger than all other values within the data set.\n",
    "It does not follow the general trend of the data set, and can even be said to \"not belong\" to the data set.\n",
    "The scatter plot below visualizes the example data set above and helps to further clarify the nature of outliers:"
   ],
   "metadata": {
    "collapsed": false
   }
  },
  {
   "cell_type": "code",
   "execution_count": 1,
   "outputs": [
    {
     "data": {
      "text/plain": "<Figure size 640x480 with 1 Axes>",
      "image/png": "[encoded data removed]"
     },
     "metadata": {},
     "output_type": "display_data"
    }
   ],
   "source": [
    "import pandas as pd\n",
    "import matplotlib.pyplot as plt\n",
    "\n",
    "scores = pd.Series([1, 2, 3, 2, -1, 4, 5000])\n",
    "x_values = pd.Series([1, 2, 3, 4, 5, 6, 7])  # x-axis values for scatter plot.\n",
    "plt.scatter(scores.index, scores)\n",
    "plt.show()"
   ],
   "metadata": {
    "collapsed": false
   }
  },
  {
   "cell_type": "markdown",
   "source": [
    "As can be seen in the figure above, the data point `5000` lies unusually far away from all other points in the data set. It is therefore an outlier or anomaly."
   ],
   "metadata": {
    "collapsed": false
   }
  },
  {
   "cell_type": "markdown",
   "source": [
    "In working with data for data science, outliers may occur in one's data set and the two main methods for detecting outliers are as follows:\n",
    "1. Using the Standard Deviation\n",
    "2. Visualizing the data set with a box plot"
   ],
   "metadata": {
    "collapsed": false
   }
  },
  {
   "cell_type": "markdown",
   "source": [
    "### Using Standard Deviation\n",
    "As mentioned in section 3, the standard deviation of a data set measures how spread apart the data set is, (i.e. how far each value in the data set is from the mean).\n",
    "\n",
    "In statistics, a data value is considered to be an outlier if it is above or below **some number of standard deviations from the mean** of the data set.\n",
    "The number of standard deviations is typically referred to as the threshold.\n",
    "\n",
    "That is, if one calculates the standard deviation of a data set to be $s$ and sets the threshold for detecting outliers to be 3, any value that is smaller than the mean by more than $3s$ or larger than the mean by more than $3s$ will be considered an outlier.\n",
    "\n",
    "For instance, consider the following data set comprising salaries of 10 employees.\n",
    "`salary = [100, 150, 85, 200, 105, 65, 275, 250, 220, 1000]`\n",
    "\n",
    "By intuition, `1000` must definitely be an outlier.\n",
    "To prove this, we shall calculate the standard deviation and compare all values with it to detect those which are outliers.\n",
    "\n",
    "We first start by calculating the mean and standard deviation before comparing each data point as shown:"
   ],
   "metadata": {
    "collapsed": false
   }
  },
  {
   "cell_type": "code",
   "execution_count": 2,
   "outputs": [
    {
     "name": "stdout",
     "output_type": "stream",
     "text": [
      "Mean: 245.0\n",
      "Standard Deviation: 261.00766272276377\n",
      "100 False\n",
      "150 False\n",
      "85 False\n",
      "200 False\n",
      "105 False\n",
      "65 False\n",
      "275 False\n",
      "250 False\n",
      "220 False\n",
      "1000 True\n"
     ]
    }
   ],
   "source": [
    "import pandas as pd\n",
    "import matplotlib.pyplot as plt\n",
    "from math import sqrt\n",
    "\n",
    "salary = pd.Series([100, 150, 85, 200, 105, 65, 275, 250, 220, 1000])\n",
    "\n",
    "# calculating mean\n",
    "total = 0\n",
    "N = len(salary)\n",
    "for amount in salary:\n",
    "    total += amount\n",
    "mean = total / N\n",
    "print(\"Mean:\", mean)\n",
    "\n",
    "# calculating standard deviation\n",
    "std_total = 0\n",
    "for amount in salary:\n",
    "    std_total += (amount - mean)**2\n",
    "std = sqrt(std_total / N)\n",
    "print(\"Standard Deviation:\", std)\n",
    "\n",
    "# comparing for outliers\n",
    "threshold = 2  # using a threshold of 2 standard deviations from mean\n",
    "for amount in salary:\n",
    "    is_outlier = False\n",
    "    if amount < (mean - threshold * std):\n",
    "        is_outlier = True\n",
    "    elif amount > (mean + threshold * std):\n",
    "        is_outlier = True\n",
    "    print(amount, is_outlier)"
   ],
   "metadata": {
    "collapsed": false
   }
  },
  {
   "cell_type": "markdown",
   "source": [
    "As we predicted, the number 1000, has been revealed to be an outlier in our data set using a threshold of 2 standard deviations from the mean.\n",
    "\n",
    "Note that, by default, the threshold for detecting outliers is usually set to 3 standard deviations."
   ],
   "metadata": {
    "collapsed": false
   }
  },
  {
   "cell_type": "markdown",
   "source": [
    "### Visualizing the Data Set with a Box Plot\n",
    "A box plot is a special type of plot comprising a rectangular box with whiskers that provides a visual summary of a data set using 5 distinct numbers, namely\n",
    " - The Minimum\n",
    " - The 1st Quartile\n",
    " - The 2nd Quartile (Median)\n",
    " - The 3rd Quartile\n",
    " - The Maximum\n",
    "\n",
    "**Parts of a Box Plot**\n",
    "<img alt=\"parts of a box plot\" src=\"boxplot.png\" title=\"Parts of a Box Plot\"/>\n",
    "\n",
    "The Minimum is simply the smallest value within the data set.\n",
    "The Maximum is simply the largest value within the data set.\n",
    "\n",
    "If the data set is to be divided into 4 equal parts or quarters,\n",
    "The 1st Quartile is simply the value that would separate the 1st and 2nd quarter.\n",
    "The 2nd Quartile is simply the value that would separate the 2nd and 3rd quarter.\n",
    "The 3rd Quartile is simply the value that would separate the 3rd and 4th quarter.\n",
    "\n",
    "The data set must be sorted first before any of these 5 numbers can be calculated to provide a summary of the data.\n",
    "\n",
    "The difference between the 1st quartile and the 3rd quartile is a special number referred to as the InterQuartile Range(IQR).\n",
    "This number is used to identify outliers in a data set.\n",
    "Specifically, outliers in a data set are values that are either\n",
    " - below $Q1 - 1.5 \\times IQR$\n",
    " - above $Q3 + 1.5 \\times IQR$\n",
    "\n",
    "Consider the following data set: `heights = [17.0, 18.5, 22.0, 12.3, 14.7, 19.1, 20.0, 13.5, 1, 43]`\n",
    "Clearly the heights `43` and `1` are outliers.\n",
    "The code cell below constructs a box plot to prove that they are indeed outliers:"
   ],
   "metadata": {
    "collapsed": false
   }
  },
  {
   "cell_type": "code",
   "execution_count": 3,
   "outputs": [
    {
     "data": {
      "text/plain": "<Figure size 640x480 with 1 Axes>",
      "image/png": "[encoded data removed]"
     },
     "metadata": {},
     "output_type": "display_data"
    }
   ],
   "source": [
    "import matplotlib.pyplot as plt\n",
    "import pandas as pd\n",
    "\n",
    "heights = pd.Series([17.0, 18.5, 22.0, 12.3, 14.7, 19.1, 20.0, 13.5, 1, 43])\n",
    "plt.boxplot(heights, vert=False)  # construct a horizontal boxplot using heights\n",
    "plt.show()"
   ],
   "metadata": {
    "collapsed": false
   }
  },
  {
   "cell_type": "markdown",
   "source": [
    "As expected, the marker representing the data points for `1` and `43` have been separated from the box plot, indicating that they are outliers or anomalies.\n",
    "\n",
    "Note that, the box plot's minimum and maximum don't actually represent the minimum and maximum values of the data set (which are the outliers).\n",
    "They however represent the minimum and maximum of the data set after the removal of the outliers."
   ],
   "metadata": {
    "collapsed": false
   }
  },
  {
   "cell_type": "markdown",
   "source": [
    "## 12. Handling Outliers\n",
    "Upon detecting outliers in a data set with either of the methods identified above, there are 3 methods through which one can handle outliers:\n",
    "1. Deleting outliers from the data set.\n",
    "2. Imputing with 10th and 90th percentile.\n",
    "3. Imputing with median."
   ],
   "metadata": {
    "collapsed": false
   }
  },
  {
   "cell_type": "markdown",
   "source": [
    "### Deleting outliers\n",
    "This method involves deleting all values that are identified as outliers from the data set.\n",
    "\n",
    "**Deleting outliers detected via Boxplot**\n",
    "If the outliers in the data set were identified using a box plot, the `plt.boxplot()` function returns a dictionary whose `fliers` key contains the outliers of the data set.\n",
    "\n",
    "The following code cell retrieves outliers from a horizontal boxplot and removes them from the data set:"
   ],
   "metadata": {
    "collapsed": false
   }
  },
  {
   "cell_type": "code",
   "execution_count": 4,
   "outputs": [
    {
     "name": "stdout",
     "output_type": "stream",
     "text": [
      "Data set with outliers: [17.0, 18.5, 22.0, 12.3, 14.7, 19.1, 20.0, 13.5, 1, 43, 78]\n",
      "Outliers: [ 1. 43. 78.]\n",
      "Data set without outliers: [17.0, 18.5, 22.0, 12.3, 14.7, 19.1, 20.0, 13.5]\n"
     ]
    },
    {
     "data": {
      "text/plain": "<Figure size 640x480 with 1 Axes>",
      "image/png": "[encoded data removed]"
     },
     "metadata": {},
     "output_type": "display_data"
    }
   ],
   "source": [
    "import matplotlib.pyplot as plt\n",
    "\n",
    "heights = [17.0, 18.5, 22.0, 12.3, 14.7, 19.1, 20.0, 13.5, 1, 43, 78]\n",
    "print(\"Data set with outliers:\",heights)\n",
    "\n",
    "# construct horizontal boxplot\n",
    "bplot = plt.boxplot(heights,vert=False)\n",
    "\n",
    "# retrieve outliers\n",
    "outliers = bplot[\"fliers\"][0].get_xdata()\n",
    "print(\"Outliers:\", outliers)\n",
    "\n",
    "# remove outliers\n",
    "for outlier in outliers:\n",
    "    heights.remove(outlier)\n",
    "\n",
    "print(\"Data set without outliers:\",heights)"
   ],
   "metadata": {
    "collapsed": false
   }
  },
  {
   "cell_type": "markdown",
   "source": [
    "The following code cell accomplishes the same with a vertical boxplot instead:"
   ],
   "metadata": {
    "collapsed": false
   }
  },
  {
   "cell_type": "code",
   "execution_count": 5,
   "outputs": [
    {
     "name": "stdout",
     "output_type": "stream",
     "text": [
      "Data set with outliers: [17.0, 18.5, 22.0, 12.3, 14.7, 19.1, 20.0, 13.5, 1, 43, 78]\n",
      "Outliers: [ 1. 43. 78.]\n",
      "Data set without outliers: [17.0, 18.5, 22.0, 12.3, 14.7, 19.1, 20.0, 13.5]\n"
     ]
    },
    {
     "data": {
      "text/plain": "<Figure size 640x480 with 1 Axes>",
      "image/png": "[encoded data removed]"
     },
     "metadata": {},
     "output_type": "display_data"
    }
   ],
   "source": [
    "import matplotlib.pyplot as plt\n",
    "\n",
    "heights = [17.0, 18.5, 22.0, 12.3, 14.7, 19.1, 20.0, 13.5, 1, 43, 78]\n",
    "print(\"Data set with outliers:\",heights)\n",
    "\n",
    "# construct horizontal boxplot\n",
    "bplot = plt.boxplot(heights, vert=True)  # NB: vert=False -> vert=True\n",
    "\n",
    "# retrieve outliers\n",
    "outliers = bplot[\"fliers\"][0].get_ydata()  # NB: .get_xdata() -> .get_ydata()\n",
    "print(\"Outliers:\", outliers)\n",
    "\n",
    "# remove outliers\n",
    "for outlier in outliers:\n",
    "    heights.remove(outlier)\n",
    "\n",
    "print(\"Data set without outliers:\",heights)"
   ],
   "metadata": {
    "collapsed": false
   }
  },
  {
   "cell_type": "markdown",
   "source": [
    "A similar approach to this can be used to delete outliers detected using the standard deviation.\n",
    "Values that compare as greater than or less than the mean by more than `threshold * standard deviation` will be deleted from the data set."
   ],
   "metadata": {
    "collapsed": false
   }
  },
  {
   "cell_type": "markdown",
   "source": [
    "### Imputing with 10th and 90th percentiles\n",
    "Another way of dealing with outliers is by imputing the value of the 10th and 90th percentile to all values less than the 10th percentile or greater than the 90th percentile respectively.\n",
    "\n",
    "The following code snippet demonstrates this for a data set `temperatures = [37, 28, 33, 35, 18, -5, 89, 34, -12, 40]` whose outliers are `[-12, 40]`"
   ],
   "metadata": {
    "collapsed": false
   }
  },
  {
   "cell_type": "code",
   "execution_count": 6,
   "outputs": [
    {
     "data": {
      "text/plain": "<Figure size 640x480 with 1 Axes>",
      "image/png": "[encoded data removed]"
     },
     "metadata": {},
     "output_type": "display_data"
    },
    {
     "data": {
      "text/plain": "<Figure size 640x480 with 1 Axes>",
      "image/png": "[encoded data removed]"
     },
     "metadata": {},
     "output_type": "display_data"
    }
   ],
   "source": [
    "import numpy as np\n",
    "import matplotlib.pyplot as plt\n",
    "\n",
    "temperatures = [37, 28, 33, 35, 18, 9, 89, 34, -12, 40]\n",
    "\n",
    "# calculating percentiles\n",
    "percentile10 = np.percentile(temperatures, 10)\n",
    "percentile90 = np.percentile(temperatures, 90)\n",
    "\n",
    "# box plot before imputation\n",
    "plt.boxplot(temperatures, vert=False)\n",
    "plt.title(\"Before Imputation\")\n",
    "plt.show()\n",
    "\n",
    "# imputing outliers\n",
    "for i in range(len(temperatures)):\n",
    "    if temperatures[i] < percentile10:\n",
    "        temperatures[i] = percentile10\n",
    "    elif temperatures[i] > percentile90:\n",
    "        temperatures[i] = percentile90\n",
    "\n",
    "# box plot after imputation\n",
    "plt.boxplot(temperatures, vert=False)\n",
    "plt.title(\"After Imputation\")\n",
    "plt.show()"
   ],
   "metadata": {
    "collapsed": false
   }
  },
  {
   "cell_type": "markdown",
   "source": [
    "As expected, imputing the 10th and 90th percentiles removed outliers from our data set."
   ],
   "metadata": {
    "collapsed": false
   }
  },
  {
   "cell_type": "markdown",
   "source": [
    "### Imputing with Median\n",
    "Another way of getting rid of outliers in a given data set is by replacing all outliers with the median.\n",
    "In the following code cell, the outliers in the data set `scores = [1020, 1350, 1490, 1350, 1480, 1390, 1500, 1400, 890, 2400]` are replaced with the median:"
   ],
   "metadata": {
    "collapsed": false
   }
  },
  {
   "cell_type": "code",
   "execution_count": 7,
   "outputs": [
    {
     "data": {
      "text/plain": "<Figure size 640x480 with 1 Axes>",
      "image/png": "[encoded data removed]"
     },
     "metadata": {},
     "output_type": "display_data"
    },
    {
     "name": "stdout",
     "output_type": "stream",
     "text": [
      "Outliers: [1020  890 2400]\n"
     ]
    },
    {
     "data": {
      "text/plain": "<Figure size 640x480 with 1 Axes>",
      "image/png": "[encoded data removed]"
     },
     "metadata": {},
     "output_type": "display_data"
    }
   ],
   "source": [
    "import matplotlib.pyplot as plt\n",
    "import numpy as np\n",
    "\n",
    "scores = [1020, 1350, 1490, 1350, 1480, 1390, 1500, 1400, 890, 2400]\n",
    "\n",
    "# calculating median\n",
    "median = np.median(scores)\n",
    "\n",
    "# boxplot before imputation\n",
    "bplot = plt.boxplot(scores, vert=False)\n",
    "plt.title(\"Before Imputation\")\n",
    "plt.show()\n",
    "\n",
    "# extracting outliers from boxplot\n",
    "outliers = bplot[\"fliers\"][0].get_xdata()\n",
    "print(\"Outliers:\", outliers)\n",
    "\n",
    "# imputing median\n",
    "for i in range(len(scores)):\n",
    "    if scores[i] in outliers:\n",
    "        scores[i] = median\n",
    "\n",
    "# boxplot after imputation\n",
    "plt.boxplot(scores, vert=False)\n",
    "plt.title(\"After Imputation\")\n",
    "plt.show()"
   ],
   "metadata": {
    "collapsed": false
   }
  },
  {
   "cell_type": "markdown",
   "source": [
    "As expected, the boxplot confirms that outliers have been removed from our data set after imputing outlier values were imputed with median."
   ],
   "metadata": {
    "collapsed": false
   }
  },
  {
   "cell_type": "markdown",
   "source": [
    "<h1 align=\"center\"> END OF NOTEBOOK</h1>"
   ],
   "metadata": {
    "collapsed": false
   }
  }
 ],
 "metadata": {
  "kernelspec": {
   "display_name": "Python 3 (ipykernel)",
   "language": "python",
   "name": "python3"
  },
  "language_info": {
   "codemirror_mode": {
    "name": "ipython",
    "version": 3
   },
   "file_extension": ".py",
   "mimetype": "text/x-python",
   "name": "python",
   "nbconvert_exporter": "python",
   "pygments_lexer": "ipython3",
   "version": "3.10.5"
  }
 },
 "nbformat": 4,
 "nbformat_minor": 5
}
