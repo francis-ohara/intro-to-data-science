{
 "cells": [
  {
   "cell_type": "markdown",
   "source": [
    "# Quiz 1\n",
    "**Date:** 03/11/2022"
   ],
   "metadata": {
    "collapsed": false
   },
   "outputs": []
  },
  {
   "cell_type": "markdown",
   "source": [
    "## Question 1"
   ],
   "metadata": {
    "collapsed": false
   },
   "outputs": []
  },
  {
   "cell_type": "markdown",
   "source": [
    "**a. What is a Hypothesis ?**\n",
    "A hypothesis refers to a"
   ],
   "metadata": {
    "collapsed": false
   }
  },
  {
   "cell_type": "markdown",
   "source": [
    "**b. What are the two types of Hypothesis (list and explain) ?**\n",
    "    i.\n",
    "    ii."
   ],
   "metadata": {
    "collapsed": false
   },
   "outputs": []
  },
  {
   "cell_type": "markdown",
   "source": [
    "**c. What are the two types of Statistical Hypothesis (list and explain) ?**\n",
    "    i. sample & population???\n",
    "    ii."
   ],
   "metadata": {
    "collapsed": false
   },
   "outputs": []
  },
  {
   "cell_type": "markdown",
   "source": [
    "**d. What is the level of significance?**\n",
    "Level of significance refers to the..."
   ],
   "metadata": {
    "collapsed": false
   },
   "outputs": []
  },
  {
   "cell_type": "markdown",
   "source": [
    "## Question 2\n",
    "Implement the following visualization using the provided data. Use all of the visuals to answer at least\n",
    "one question from the data. Outline the question or problem and plot the graph to answer it.\n",
    "E.g. I want to find out if there is a relationship between height and weight.\n",
    "Note: Use Jupyter notebook."
   ],
   "metadata": {
    "collapsed": false
   },
   "outputs": []
  },
  {
   "cell_type": "markdown",
   "source": [
    "**Setting up Environment**"
   ],
   "metadata": {
    "collapsed": false
   }
  },
  {
   "cell_type": "code",
   "execution_count": 19,
   "outputs": [],
   "source": [
    "# Importing required libraries\n",
    "import numpy as np\n",
    "import pandas as pd\n",
    "import matplotlib.pyplot as plt\n",
    "import sklearn\n",
    "\n",
    "# importing dataset\n",
    "dataset = pd.read_csv(\"./prosperLoanData.csv\")"
   ],
   "metadata": {
    "collapsed": false
   }
  },
  {
   "cell_type": "markdown",
   "source": [
    "**(1) Bar Chart**\n",
    "What is the distribution of the dollars delinquent at the time the credit was pulled?\n",
    "The following code snippet uses a barchart to find the distribution of dollars delinquent."
   ],
   "metadata": {
    "collapsed": false
   }
  },
  {
   "cell_type": "code",
   "execution_count": 30,
   "outputs": [
    {
     "data": {
      "text/plain": "<Figure size 640x480 with 1 Axes>",
      "image/png": "[encoded data removed]"
     },
     "metadata": {},
     "output_type": "display_data"
    }
   ],
   "source": [
    "dataset = pd.read_csv(\"prosperLoanData.csv\")\n",
    "\n",
    "amount_delinquent = dataset[\"IncomeRange\"]\n",
    "\n",
    "# view all varieties of income\n",
    "plt.bar(amount_delinquent.head(1000), 10)\n",
    "plt.show()"
   ],
   "metadata": {
    "collapsed": false
   }
  },
  {
   "cell_type": "markdown",
   "source": [
    "**(2) Pie Chart**\n",
    "What are the proportion of income ranges?"
   ],
   "metadata": {
    "collapsed": false
   },
   "outputs": []
  },
  {
   "cell_type": "code",
   "execution_count": 44,
   "outputs": [
    {
     "ename": "TypeError",
     "evalue": "can't multiply sequence by non-int of type 'float'",
     "output_type": "error",
     "traceback": [
      "\u001B[1;31m---------------------------------------------------------------------------\u001B[0m",
      "\u001B[1;31mTypeError\u001B[0m                                 Traceback (most recent call last)",
      "Input \u001B[1;32mIn [44]\u001B[0m, in \u001B[0;36m<cell line: 8>\u001B[1;34m()\u001B[0m\n\u001B[0;32m      5\u001B[0m \u001B[38;5;28;01mfor\u001B[39;00m \u001B[38;5;28mrange\u001B[39m \u001B[38;5;129;01min\u001B[39;00m ranges:\n\u001B[0;32m      6\u001B[0m     frequencies[\u001B[38;5;28mrange\u001B[39m] \u001B[38;5;241m=\u001B[39m frequencies\u001B[38;5;241m.\u001B[39mget(\u001B[38;5;28mrange\u001B[39m, \u001B[38;5;241m0\u001B[39m) \u001B[38;5;241m+\u001B[39m \u001B[38;5;241m1\u001B[39m\n\u001B[1;32m----> 8\u001B[0m \u001B[43mplt\u001B[49m\u001B[38;5;241;43m.\u001B[39;49m\u001B[43mpie\u001B[49m\u001B[43m(\u001B[49m\u001B[43mfrequencies\u001B[49m\u001B[38;5;241;43m.\u001B[39;49m\u001B[43mvalues\u001B[49m\u001B[43m(\u001B[49m\u001B[43m)\u001B[49m\u001B[43m,\u001B[49m\u001B[43m \u001B[49m\u001B[43mfrequencies\u001B[49m\u001B[38;5;241;43m.\u001B[39;49m\u001B[43mkeys\u001B[49m\u001B[43m(\u001B[49m\u001B[43m)\u001B[49m\u001B[43m)\u001B[49m\n",
      "File \u001B[1;32m~\\anaconda3\\envs\\intro-to-data-science\\lib\\site-packages\\matplotlib\\pyplot.py:2756\u001B[0m, in \u001B[0;36mpie\u001B[1;34m(x, explode, labels, colors, autopct, pctdistance, shadow, labeldistance, startangle, radius, counterclock, wedgeprops, textprops, center, frame, rotatelabels, normalize, data)\u001B[0m\n\u001B[0;32m   2749\u001B[0m \u001B[38;5;129m@_copy_docstring_and_deprecators\u001B[39m(Axes\u001B[38;5;241m.\u001B[39mpie)\n\u001B[0;32m   2750\u001B[0m \u001B[38;5;28;01mdef\u001B[39;00m \u001B[38;5;21mpie\u001B[39m(\n\u001B[0;32m   2751\u001B[0m         x, explode\u001B[38;5;241m=\u001B[39m\u001B[38;5;28;01mNone\u001B[39;00m, labels\u001B[38;5;241m=\u001B[39m\u001B[38;5;28;01mNone\u001B[39;00m, colors\u001B[38;5;241m=\u001B[39m\u001B[38;5;28;01mNone\u001B[39;00m, autopct\u001B[38;5;241m=\u001B[39m\u001B[38;5;28;01mNone\u001B[39;00m,\n\u001B[1;32m   (...)\u001B[0m\n\u001B[0;32m   2754\u001B[0m         textprops\u001B[38;5;241m=\u001B[39m\u001B[38;5;28;01mNone\u001B[39;00m, center\u001B[38;5;241m=\u001B[39m(\u001B[38;5;241m0\u001B[39m, \u001B[38;5;241m0\u001B[39m), frame\u001B[38;5;241m=\u001B[39m\u001B[38;5;28;01mFalse\u001B[39;00m,\n\u001B[0;32m   2755\u001B[0m         rotatelabels\u001B[38;5;241m=\u001B[39m\u001B[38;5;28;01mFalse\u001B[39;00m, \u001B[38;5;241m*\u001B[39m, normalize\u001B[38;5;241m=\u001B[39m\u001B[38;5;28;01mTrue\u001B[39;00m, data\u001B[38;5;241m=\u001B[39m\u001B[38;5;28;01mNone\u001B[39;00m):\n\u001B[1;32m-> 2756\u001B[0m     \u001B[38;5;28;01mreturn\u001B[39;00m gca()\u001B[38;5;241m.\u001B[39mpie(\n\u001B[0;32m   2757\u001B[0m         x, explode\u001B[38;5;241m=\u001B[39mexplode, labels\u001B[38;5;241m=\u001B[39mlabels, colors\u001B[38;5;241m=\u001B[39mcolors,\n\u001B[0;32m   2758\u001B[0m         autopct\u001B[38;5;241m=\u001B[39mautopct, pctdistance\u001B[38;5;241m=\u001B[39mpctdistance, shadow\u001B[38;5;241m=\u001B[39mshadow,\n\u001B[0;32m   2759\u001B[0m         labeldistance\u001B[38;5;241m=\u001B[39mlabeldistance, startangle\u001B[38;5;241m=\u001B[39mstartangle,\n\u001B[0;32m   2760\u001B[0m         radius\u001B[38;5;241m=\u001B[39mradius, counterclock\u001B[38;5;241m=\u001B[39mcounterclock,\n\u001B[0;32m   2761\u001B[0m         wedgeprops\u001B[38;5;241m=\u001B[39mwedgeprops, textprops\u001B[38;5;241m=\u001B[39mtextprops, center\u001B[38;5;241m=\u001B[39mcenter,\n\u001B[0;32m   2762\u001B[0m         frame\u001B[38;5;241m=\u001B[39mframe, rotatelabels\u001B[38;5;241m=\u001B[39mrotatelabels, normalize\u001B[38;5;241m=\u001B[39mnormalize,\n\u001B[0;32m   2763\u001B[0m         \u001B[38;5;241m*\u001B[39m\u001B[38;5;241m*\u001B[39m({\u001B[38;5;124m\"\u001B[39m\u001B[38;5;124mdata\u001B[39m\u001B[38;5;124m\"\u001B[39m: data} \u001B[38;5;28;01mif\u001B[39;00m data \u001B[38;5;129;01mis\u001B[39;00m \u001B[38;5;129;01mnot\u001B[39;00m \u001B[38;5;28;01mNone\u001B[39;00m \u001B[38;5;28;01melse\u001B[39;00m {}))\n",
      "File \u001B[1;32m~\\anaconda3\\envs\\intro-to-data-science\\lib\\site-packages\\matplotlib\\__init__.py:1412\u001B[0m, in \u001B[0;36m_preprocess_data.<locals>.inner\u001B[1;34m(ax, data, *args, **kwargs)\u001B[0m\n\u001B[0;32m   1409\u001B[0m \u001B[38;5;129m@functools\u001B[39m\u001B[38;5;241m.\u001B[39mwraps(func)\n\u001B[0;32m   1410\u001B[0m \u001B[38;5;28;01mdef\u001B[39;00m \u001B[38;5;21minner\u001B[39m(ax, \u001B[38;5;241m*\u001B[39margs, data\u001B[38;5;241m=\u001B[39m\u001B[38;5;28;01mNone\u001B[39;00m, \u001B[38;5;241m*\u001B[39m\u001B[38;5;241m*\u001B[39mkwargs):\n\u001B[0;32m   1411\u001B[0m     \u001B[38;5;28;01mif\u001B[39;00m data \u001B[38;5;129;01mis\u001B[39;00m \u001B[38;5;28;01mNone\u001B[39;00m:\n\u001B[1;32m-> 1412\u001B[0m         \u001B[38;5;28;01mreturn\u001B[39;00m func(ax, \u001B[38;5;241m*\u001B[39m\u001B[38;5;28mmap\u001B[39m(sanitize_sequence, args), \u001B[38;5;241m*\u001B[39m\u001B[38;5;241m*\u001B[39mkwargs)\n\u001B[0;32m   1414\u001B[0m     bound \u001B[38;5;241m=\u001B[39m new_sig\u001B[38;5;241m.\u001B[39mbind(ax, \u001B[38;5;241m*\u001B[39margs, \u001B[38;5;241m*\u001B[39m\u001B[38;5;241m*\u001B[39mkwargs)\n\u001B[0;32m   1415\u001B[0m     auto_label \u001B[38;5;241m=\u001B[39m (bound\u001B[38;5;241m.\u001B[39marguments\u001B[38;5;241m.\u001B[39mget(label_namer)\n\u001B[0;32m   1416\u001B[0m                   \u001B[38;5;129;01mor\u001B[39;00m bound\u001B[38;5;241m.\u001B[39mkwargs\u001B[38;5;241m.\u001B[39mget(label_namer))\n",
      "File \u001B[1;32m~\\anaconda3\\envs\\intro-to-data-science\\lib\\site-packages\\matplotlib\\axes\\_axes.py:3089\u001B[0m, in \u001B[0;36mAxes.pie\u001B[1;34m(self, x, explode, labels, colors, autopct, pctdistance, shadow, labeldistance, startangle, radius, counterclock, wedgeprops, textprops, center, frame, rotatelabels, normalize)\u001B[0m\n\u001B[0;32m   3087\u001B[0m theta2 \u001B[38;5;241m=\u001B[39m (theta1 \u001B[38;5;241m+\u001B[39m frac) \u001B[38;5;28;01mif\u001B[39;00m counterclock \u001B[38;5;28;01melse\u001B[39;00m (theta1 \u001B[38;5;241m-\u001B[39m frac)\n\u001B[0;32m   3088\u001B[0m thetam \u001B[38;5;241m=\u001B[39m \u001B[38;5;241m2\u001B[39m \u001B[38;5;241m*\u001B[39m np\u001B[38;5;241m.\u001B[39mpi \u001B[38;5;241m*\u001B[39m \u001B[38;5;241m0.5\u001B[39m \u001B[38;5;241m*\u001B[39m (theta1 \u001B[38;5;241m+\u001B[39m theta2)\n\u001B[1;32m-> 3089\u001B[0m x \u001B[38;5;241m+\u001B[39m\u001B[38;5;241m=\u001B[39m \u001B[43mexpl\u001B[49m\u001B[43m \u001B[49m\u001B[38;5;241;43m*\u001B[39;49m\u001B[43m \u001B[49m\u001B[43mmath\u001B[49m\u001B[38;5;241;43m.\u001B[39;49m\u001B[43mcos\u001B[49m\u001B[43m(\u001B[49m\u001B[43mthetam\u001B[49m\u001B[43m)\u001B[49m\n\u001B[0;32m   3090\u001B[0m y \u001B[38;5;241m+\u001B[39m\u001B[38;5;241m=\u001B[39m expl \u001B[38;5;241m*\u001B[39m math\u001B[38;5;241m.\u001B[39msin(thetam)\n\u001B[0;32m   3092\u001B[0m w \u001B[38;5;241m=\u001B[39m mpatches\u001B[38;5;241m.\u001B[39mWedge((x, y), radius, \u001B[38;5;241m360.\u001B[39m \u001B[38;5;241m*\u001B[39m \u001B[38;5;28mmin\u001B[39m(theta1, theta2),\n\u001B[0;32m   3093\u001B[0m                    \u001B[38;5;241m360.\u001B[39m \u001B[38;5;241m*\u001B[39m \u001B[38;5;28mmax\u001B[39m(theta1, theta2),\n\u001B[0;32m   3094\u001B[0m                    facecolor\u001B[38;5;241m=\u001B[39mget_next_color(),\n\u001B[0;32m   3095\u001B[0m                    clip_on\u001B[38;5;241m=\u001B[39m\u001B[38;5;28;01mFalse\u001B[39;00m,\n\u001B[0;32m   3096\u001B[0m                    label\u001B[38;5;241m=\u001B[39mlabel)\n",
      "\u001B[1;31mTypeError\u001B[0m: can't multiply sequence by non-int of type 'float'"
     ]
    },
    {
     "data": {
      "text/plain": "<Figure size 640x480 with 1 Axes>",
      "image/png": "[encoded data removed]"
     },
     "metadata": {},
     "output_type": "display_data"
    }
   ],
   "source": [
    "ranges = dataset[\"IncomeRange\"]\n",
    "frequencies = dict()\n",
    "\n",
    "\n",
    "for range in ranges:\n",
    "    frequencies[range] = frequencies.get(range, 0) + 1\n",
    "\n",
    "plt.pie(frequencies.values(), frequencies.keys())\n"
   ],
   "metadata": {
    "collapsed": false
   }
  },
  {
   "cell_type": "markdown",
   "source": [
    "**(3) Stacked Area Chart**"
   ],
   "metadata": {
    "collapsed": false
   },
   "outputs": []
  },
  {
   "cell_type": "markdown",
   "source": [
    "\n",
    "4. Line chart"
   ],
   "metadata": {
    "collapsed": false
   }
  },
  {
   "cell_type": "markdown",
   "source": [
    "5. Histogram\n",
    "2. Which state has the highest income range?"
   ],
   "metadata": {
    "collapsed": false
   },
   "outputs": []
  },
  {
   "cell_type": "markdown",
   "source": [
    "6. Scatter Plot\n",
    "What are some outlier"
   ],
   "metadata": {
    "collapsed": false
   },
   "outputs": []
  },
  {
   "cell_type": "markdown",
   "source": [
    "7. Box plot\n",
    "What is the median .....of teh borrowers"
   ],
   "metadata": {
    "collapsed": false
   },
   "outputs": []
  },
  {
   "cell_type": "markdown",
   "source": [
    "8. Violin Plot"
   ],
   "metadata": {
    "collapsed": false
   }
  },
  {
   "cell_type": "markdown",
   "source": [
    "Questions to answer\n",
    "1. What are investors most interested in when taking loan?\n",
    " ie. which feature had highest correlation with investors feature?\n",
    "\n",
    "plot on scatter plot and use line plot to view general trend of data."
   ],
   "metadata": {
    "collapsed": false
   }
  },
  {
   "cell_type": "markdown",
   "source": [],
   "metadata": {
    "collapsed": false
   }
  }
 ],
 "metadata": {
  "kernelspec": {
   "display_name": "Python 3",
   "language": "python",
   "name": "python3"
  },
  "language_info": {
   "codemirror_mode": {
    "name": "ipython",
    "version": 2
   },
   "file_extension": ".py",
   "mimetype": "text/x-python",
   "name": "python",
   "nbconvert_exporter": "python",
   "pygments_lexer": "ipython2",
   "version": "2.7.6"
  }
 },
 "nbformat": 4,
 "nbformat_minor": 0
}
