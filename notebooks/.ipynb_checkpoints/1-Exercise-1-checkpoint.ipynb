{
 "cells": [
  {
   "cell_type": "markdown",
   "metadata": {},
   "source": [
    "# Exercise 1\n",
    "**Name**: Francis O'Hara Aidoo <br>\n",
    "**Roll Number**: 10201100101 <br>\n",
    "**Program of Study**: Information Technology"
   ]
  },
  {
   "cell_type": "markdown",
   "metadata": {},
   "source": [
    "**Question 1** <br>\n",
    "Find the largest of 3 numbers\n",
    "\n",
    "**Solution 1**"
   ]
  },
  {
   "cell_type": "code",
   "execution_count": 6,
   "metadata": {},
   "outputs": [
    {
     "name": "stdout",
     "output_type": "stream",
     "text": [
      "The largest number is 3\n"
     ]
    }
   ],
   "source": [
    "# function definition\n",
    "def largest(a, b, c):\n",
    "    result = a\n",
    "    if b > result:\n",
    "        result = b\n",
    "    if c > result:\n",
    "        result = c\n",
    "    return result\n",
    "\n",
    "\n",
    "# test\n",
    "test = largest(1, 2, 3)\n",
    "print(\"The largest number is\", test)"
   ]
  },
  {
   "cell_type": "markdown",
   "metadata": {},
   "source": [
    "**Question 2**<br>\n",
    "Given a list of numbers, write a function to search for a particular number in the list.\n",
    "\n",
    "**Solution 2**"
   ]
  },
  {
   "cell_type": "code",
   "execution_count": 14,
   "metadata": {},
   "outputs": [
    {
     "name": "stdout",
     "output_type": "stream",
     "text": [
      "Target was found at position 5\n"
     ]
    }
   ],
   "source": [
    "# function definition\n",
    "def search(target, numbers):\n",
    "    result = -1\n",
    "    for i in range(len(numbers)):\n",
    "        if numbers[i] == target:\n",
    "            result = i\n",
    "            break\n",
    "    return result\n",
    "\n",
    "\n",
    "#test\n",
    "test = search(34, [1, 2, 3, 5, 76, 34, 88, 97, 101, 102])\n",
    "print(\"Target was found at position\", test)"
   ]
  },
  {
   "cell_type": "markdown",
   "metadata": {},
   "source": [
    "**Question 3** <br>\n",
    "Write a function that accept a list of numbers and do the following:\n",
    "   - Compute the sum\n",
    "   - Compute the Mean\n",
    "   - Find the Largest element\n",
    "   - Find the Smallest element\n",
    "   - Squares every element of the list\n",
    "\n",
    "**Solution 3**"
   ]
  },
  {
   "cell_type": "code",
   "execution_count": 8,
   "metadata": {},
   "outputs": [
    {
     "name": "stdout",
     "output_type": "stream",
     "text": [
      "The sum of the numbers is 55\n",
      "The mean of the numbers is 5.5\n",
      "The largest element is 10\n",
      "The smallest element is 1\n",
      "The squares of all the elements in the list are:\n",
      "1 4 9 16 25 36 49 64 81 100 "
     ]
    }
   ],
   "source": [
    "# function definition\n",
    "def calculator(numbers):\n",
    "    # Sum\n",
    "    total = 0\n",
    "    for number in numbers:\n",
    "        total += number\n",
    "    print(\"The sum of the numbers is\", total)\n",
    "\n",
    "    # Mean\n",
    "    mean = total / len(numbers)\n",
    "    print(\"The mean of the numbers is\", mean)\n",
    "\n",
    "    # Largest element\n",
    "    biggest = numbers[0]\n",
    "    for number in numbers:\n",
    "        if number > biggest:\n",
    "            biggest = number\n",
    "    print(\"The largest element is\", biggest)\n",
    "\n",
    "    # Smallest element\n",
    "    smallest = numbers[0]\n",
    "    for number in numbers:\n",
    "        if number < smallest:\n",
    "            smallest = number\n",
    "    print(\"The smallest element is\", smallest)\n",
    "\n",
    "    # Squares\n",
    "    print(\"The squares of all the elements in the list are:\")\n",
    "    for number in numbers:\n",
    "        print(number * number, end=\" \")\n",
    "\n",
    "\n",
    "# test\n",
    "test = [1,2,3,4,5,6,7,8,9,10]\n",
    "calculator(test)"
   ]
  },
  {
   "cell_type": "markdown",
   "metadata": {},
   "source": [
    "**Question 4** <br>\n",
    "Fix the following factorial function to disallow negative numbers:\n",
    "```\n",
    "def factor(n):\n",
    "    if n <= 1:\n",
    "        return 1\n",
    "    else:\n",
    "        return n * factor(n-1)\n",
    "```\n",
    "\n",
    "**Solution**"
   ]
  },
  {
   "cell_type": "code",
   "execution_count": 13,
   "metadata": {},
   "outputs": [
    {
     "name": "stdout",
     "output_type": "stream",
     "text": [
      "No factorial for negative integers!\n"
     ]
    }
   ],
   "source": [
    "# function definition\n",
    "def factor(n):\n",
    "    if n < 0:\n",
    "        return \"No factorial for negative integers!\"\n",
    "    elif n <= 1:\n",
    "        return 1\n",
    "    else:\n",
    "        return n * factor(n-1)\n",
    "\n",
    "\n",
    "# test\n",
    "number = -4\n",
    "print(factor(number))"
   ]
  },
  {
   "cell_type": "markdown",
   "metadata": {},
   "source": []
  }
 ],
 "metadata": {
  "kernelspec": {
   "display_name": "Python 3 (ipykernel)",
   "language": "python",
   "name": "python3"
  },
  "language_info": {
   "codemirror_mode": {
    "name": "ipython",
    "version": 3
   },
   "file_extension": ".py",
   "mimetype": "text/x-python",
   "name": "python",
   "nbconvert_exporter": "python",
   "pygments_lexer": "ipython3",
   "version": "3.10.4"
  }
 },
 "nbformat": 4,
 "nbformat_minor": 1
}
