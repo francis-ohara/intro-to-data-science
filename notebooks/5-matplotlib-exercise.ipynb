{
 "cells": [
  {
   "cell_type": "markdown",
   "source": [
    "# MATPLOTLIB EXERCISES\n",
    "The following are examples from chapters 1 to 4 of the MATPLOTLIB For Python Developers book."
   ],
   "metadata": {
    "collapsed": false
   }
  },
  {
   "cell_type": "markdown",
   "source": [
    "## Chapter 1"
   ],
   "metadata": {
    "collapsed": false
   }
  },
  {
   "cell_type": "markdown",
   "source": [
    "### Plotting with Pyplot\n",
    "We will make use of the pyplot module within Matplotlib to plot graphs.\n",
    "In the below example, we plot the line y = x^2^"
   ],
   "metadata": {
    "collapsed": false
   }
  },
  {
   "cell_type": "markdown",
   "source": [
    "The command `%matplotlib notebook`is used to make the resulting plot interactive:"
   ],
   "metadata": {
    "collapsed": false
   }
  },
  {
   "cell_type": "code",
   "execution_count": null,
   "outputs": [],
   "source": [],
   "metadata": {
    "collapsed": false
   }
  },
  {
   "cell_type": "code",
   "execution_count": 1,
   "outputs": [
    {
     "data": {
      "text/plain": "<Figure size 640x480 with 1 Axes>",
      "image/png": "[encoded data removed]"
     },
     "metadata": {},
     "output_type": "display_data"
    }
   ],
   "source": [
    "import matplotlib.pyplot as plt\n",
    "\n",
    "x = [i for i in range(10)]  # list of x values\n",
    "y = [i ** 2 for i in x]  # list of y values\n",
    "\n",
    "plt.plot(x, y)  # makes plot using argument values\n",
    "plt.show()  # displays plot"
   ],
   "metadata": {
    "collapsed": false
   }
  },
  {
   "cell_type": "markdown",
   "source": [
    "## Chapter 2\n",
    "Plots are drawn based on data. In Matplotlib, the data may be loaded in the following data structures:\n",
    "\n",
    "#### 1. Python Lists"
   ],
   "metadata": {
    "collapsed": false
   }
  },
  {
   "cell_type": "code",
   "execution_count": 2,
   "outputs": [
    {
     "name": "stdout",
     "output_type": "stream",
     "text": [
      "[0, 1, 4, 9, 16, 25, 36]\n"
     ]
    }
   ],
   "source": [
    "squares = [0, 1, 4, 9, 16, 25, 36]  # list of first seven perfect squares.\n",
    "print(squares)"
   ],
   "metadata": {
    "collapsed": false
   }
  },
  {
   "cell_type": "code",
   "execution_count": 3,
   "outputs": [
    {
     "name": "stdout",
     "output_type": "stream",
     "text": [
      "[5, 10, 15, 20, 25, 30, 35, 40, 45, 50, 55, 60, 65, 70, 75, 80, 85, 90, 95]\n"
     ]
    }
   ],
   "source": [
    "multiples_5 = list(range(5, 100, 5))  # generating arithmetic sequence with range()\n",
    "print(multiples_5)"
   ],
   "metadata": {
    "collapsed": false
   }
  },
  {
   "cell_type": "markdown",
   "source": [
    "#### 2. Numpy Arrays\n",
    "Numpy n-dimensional arrays are also another data structure that can contain the data we want to visualize with matplotlib. The following snippets demonstrate common numpy array functionalities:"
   ],
   "metadata": {
    "collapsed": false
   }
  },
  {
   "cell_type": "markdown",
   "source": [
    "**Instantiating NumPy arrays**\n",
    "Numpy arrays are instantiated using the `numpy.array()` function as follows:"
   ],
   "metadata": {
    "collapsed": false
   }
  },
  {
   "cell_type": "code",
   "execution_count": 4,
   "outputs": [
    {
     "name": "stdout",
     "output_type": "stream",
     "text": [
      "[ 1  1  2  3  5  8 13 21 34]\n",
      "[[ 3  1]\n",
      " [ 6  4]\n",
      " [ 9  7]\n",
      " [12 10]\n",
      " [15 13]\n",
      " [18 16]\n",
      " [21 19]\n",
      " [24  2]]\n"
     ]
    }
   ],
   "source": [
    "import numpy as np\n",
    "\n",
    "# 1-dimensional numpy array from a list\n",
    "fibonacci = np.array([1, 1, 2, 3, 5, 8, 13, 21, 34])\n",
    "print(fibonacci)\n",
    "\n",
    "# 2-dimensional numpy array from list of lists\n",
    "multiples_3 = np.array([[3, 1], [6, 4], [9, 7], [12, 10], [15, 13], [18, 16], [21, 19], [24, 2]])\n",
    "print(multiples_3)"
   ],
   "metadata": {
    "collapsed": false
   }
  },
  {
   "cell_type": "markdown",
   "source": [
    "Any object may be passed as an argument to `np.array()`.\n",
    "Multi-dimensional arrays are created when an iterable of iterables is passed as argument to `np.array()`"
   ],
   "metadata": {
    "collapsed": false
   }
  },
  {
   "cell_type": "markdown",
   "source": [
    "**Generating non-integral arithmetic sequences with `np.linspace()`**\n",
    "The `np.linspace()` method can be used to generate an arithmetic sequence of evenly-spaced non-integral values as follows:"
   ],
   "metadata": {
    "collapsed": false
   }
  },
  {
   "cell_type": "code",
   "execution_count": 5,
   "outputs": [
    {
     "name": "stdout",
     "output_type": "stream",
     "text": [
      "[ 1.          3.11111111  5.22222222  7.33333333  9.44444444 11.55555556\n",
      " 13.66666667 15.77777778 17.88888889 20.        ]\n"
     ]
    }
   ],
   "source": [
    "sequence = np.linspace(1, 20, 10)  # SYNTAX: np.linspace(start, stop, num=50)\n",
    "print(sequence)                    # start and stop are inclusive in the sequence"
   ],
   "metadata": {
    "collapsed": false
   }
  },
  {
   "cell_type": "markdown",
   "source": [
    "**Element-wise matrix multiplication with numpy arrays**\n",
    "Corresponding elements in a matrix can be multiplied using the `*` operator as follows:"
   ],
   "metadata": {
    "collapsed": false
   }
  },
  {
   "cell_type": "code",
   "execution_count": 6,
   "outputs": [
    {
     "name": "stdout",
     "output_type": "stream",
     "text": [
      "[[10 18]\n",
      " [18 28]\n",
      " [28 40]]\n"
     ]
    }
   ],
   "source": [
    "arr1 = np.array([[2, 3], [3, 4], [4, 5]])\n",
    "arr2 = np.array([[5, 6], [6, 7], [7, 8]])\n",
    "product = arr1 * arr2  # arrays must have same length\n",
    "print(product)"
   ],
   "metadata": {
    "collapsed": false
   }
  },
  {
   "cell_type": "markdown",
   "source": [
    "#### 3. Pandas Dataframes\n",
    "Pandas dataframes are also another data structure that the data we seek to visualize using matplotlib may take the form of.\n",
    "\n",
    "Pandas DataFrames may either be instantiated with the `pandas.DataFrame()` constructor or imported from a variety of file formats. The following code snippets demonstrate how to do this:"
   ],
   "metadata": {
    "collapsed": false
   }
  },
  {
   "cell_type": "code",
   "execution_count": 27,
   "outputs": [
    {
     "name": "stdout",
     "output_type": "stream",
     "text": [
      "        0   1\n",
      "0  Sheena  50\n",
      "1   Maria  47\n",
      "2    Rose  49\n",
      "  sheena   50\n",
      "0  maria   47\n",
      "1   rose   49\n",
      "   Sheena  50\n",
      "0  Maria   47\n",
      "1  Rose    49\n"
     ]
    }
   ],
   "source": [
    "import pandas as pd  # import pandas package\n",
    "\n",
    "# using the DataFrame constructor\n",
    "df1 = pd.DataFrame([[\"Sheena\", 50], [\"Maria\", 47], [\"Rose\", 49]])\n",
    "\n",
    "# importing from csv\n",
    "df2 = pd.read_csv(\"../data/5-matplotlib/data_df2.csv\", delimiter=\",\")\n",
    "\n",
    "# importing from tsv\n",
    "df3 = pd.read_csv(\"../data/5-matplotlib/data_df3.tsv\", delimiter=\"\\t\")\n",
    "\n",
    "print(df1)\n",
    "print(df2)\n",
    "print(df3)"
   ],
   "metadata": {
    "collapsed": false
   }
  },
  {
   "cell_type": "markdown",
   "source": [
    "File formats that DataFrames may be imported from include `.tsv`, `csv`, `json`, SQL databases, etc."
   ],
   "metadata": {
    "collapsed": false
   }
  },
  {
   "cell_type": "markdown",
   "source": [
    "## Plotting with matplotlib"
   ],
   "metadata": {
    "collapsed": false
   }
  }
 ],
 "metadata": {
  "kernelspec": {
   "display_name": "Python 3",
   "language": "python",
   "name": "python3"
  },
  "language_info": {
   "codemirror_mode": {
    "name": "ipython",
    "version": 2
   },
   "file_extension": ".py",
   "mimetype": "text/x-python",
   "name": "python",
   "nbconvert_exporter": "python",
   "pygments_lexer": "ipython2",
   "version": "2.7.6"
  }
 },
 "nbformat": 4,
 "nbformat_minor": 0
}
