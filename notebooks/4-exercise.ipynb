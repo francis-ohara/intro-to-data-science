{
 "cells": [
  {
   "cell_type": "markdown",
   "source": [
    "Solve the following Questions\n",
    "\n",
    "1. https://pythonbasics.org/pandas-dataframe/\n",
    "\n",
    "1.1 https://data36.com/pandas-tutorial-1-basics-reading-data-files-dataframes-data-selection/\n",
    "\n",
    "2. https://www.tutorialspoint.com/python_pandas/python_pandas_dataframe.htm\n",
    "3.  https://www.learndatasci.com/tutorials/python-pandas-tutorial-complete-introduction-for-beginners/   (different sources)"
   ],
   "metadata": {
    "collapsed": false
   }
  },
  {
   "cell_type": "markdown",
   "source": [
    "# Website 1 Practice"
   ],
   "metadata": {
    "collapsed": false
   }
  },
  {
   "cell_type": "markdown",
   "source": [
    "#### Creating n x 1 Dataframe from List\n",
    "The following code creates an n x 1 dataframe from a list containing n elements."
   ],
   "metadata": {
    "collapsed": false
   }
  },
  {
   "cell_type": "code",
   "execution_count": 3,
   "outputs": [
    {
     "name": "stdout",
     "output_type": "stream",
     "text": [
      "             0\n",
      "0       Banana\n",
      "1        Apple\n",
      "2        Guava\n",
      "3  Straw berry\n"
     ]
    }
   ],
   "source": [
    "import pandas as pd\n",
    "\n",
    "fruits = [\"Banana\", \"Apple\", \"Guava\", \"Straw berry\"]\n",
    "fruits_df = pd.DataFrame(fruits)\n",
    "\n",
    "print(fruits_df)"
   ],
   "metadata": {
    "collapsed": false
   }
  },
  {
   "cell_type": "markdown",
   "source": [
    "### Creating m x n Dataframe from List\n",
    "The following code creates an m x n dataframe from a list of m lists each of length n"
   ],
   "metadata": {
    "collapsed": false
   }
  },
  {
   "cell_type": "code",
   "execution_count": 10,
   "outputs": [
    {
     "name": "stdout",
     "output_type": "stream",
     "text": [
      "           Name  Score Grade\n",
      "0   Anna Tetteh     88    B2\n",
      "1  Eugene Stark     54    D7\n",
      "2    Helen Troy    100   A1+\n",
      "3  Bruce Banner     92    A1\n"
     ]
    }
   ],
   "source": [
    "import pandas as pd\n",
    "\n",
    "grades = [[\"Anna Tetteh\", 88, \"B2\"], [\"Eugene Stark\", 54, \"D7\"], [\"Helen Troy\", 100, \"A1+\"], [\"Bruce Banner\", 92, \"A1\"]]\n",
    "column_labels = [\"Name\", \"Score\", \"Grade\"]\n",
    "grades_df = pd.DataFrame(grades, columns=column_labels)\n",
    "print(grades_df)"
   ],
   "metadata": {
    "collapsed": false
   }
  },
  {
   "cell_type": "markdown",
   "source": [
    "### Selecting column from a DataFrame by column name\n",
    "The following code selects the Name column from the grades_df DataFrame we created in the previous cell."
   ],
   "metadata": {
    "collapsed": false
   }
  },
  {
   "cell_type": "code",
   "execution_count": 15,
   "outputs": [
    {
     "name": "stdout",
     "output_type": "stream",
     "text": [
      "0     Anna Tetteh\n",
      "1    Eugene Stark\n",
      "2      Helen Troy\n",
      "3    Bruce Banner\n",
      "Name: Name, dtype: object\n"
     ]
    }
   ],
   "source": [
    "names = grades_df[\"Name\"]\n",
    "print(names)"
   ],
   "metadata": {
    "collapsed": false
   }
  },
  {
   "cell_type": "markdown",
   "source": [
    "### Adding columns to an existing DataFrame\n",
    "The following code adds a column from a newly created DataFrame to an existing DataFrame."
   ],
   "metadata": {
    "collapsed": false
   }
  },
  {
   "cell_type": "code",
   "execution_count": 17,
   "outputs": [
    {
     "name": "stdout",
     "output_type": "stream",
     "text": [
      "----------------\n",
      "           Name  Score Grade                  Course\n",
      "0   Anna Tetteh     88    B2  Information Technology\n",
      "1  Eugene Stark     54    D7        Computer Science\n",
      "2    Helen Troy    100   A1+    Computer Engineering\n",
      "3  Bruce Banner     92    A1                Business\n",
      "           Name  Score Grade                  Course\n",
      "0   Anna Tetteh     88    B2  Information Technology\n",
      "1  Eugene Stark     54    D7        Computer Science\n",
      "2    Helen Troy    100   A1+    Computer Engineering\n",
      "3  Bruce Banner     92    A1                Business\n"
     ]
    }
   ],
   "source": [
    "# Grades_df before addition of DataFrame\n",
    "print(\"----------------Before------------------\")\n",
    "print(grades_df)\n",
    "\n",
    "new_df = pd.DataFrame([\"Information Technology\", \"Computer Science\", \"Computer Engineering\", \"Business\"], columns=[\"Course\"]) # New DataFrame\n",
    "grades_df[\"Course\"] = new_df[\"Course\"]\n",
    "\n",
    "# Grades_df after addition of DataFrame\n",
    "print(\"-----------------After-------------------\")\n",
    "print(grades_df)"
   ],
   "metadata": {
    "collapsed": false
   }
  },
  {
   "cell_type": "code",
   "execution_count": null,
   "outputs": [],
   "source": [
    "Bef"
   ],
   "metadata": {
    "collapsed": false
   }
  }
 ],
 "metadata": {
  "kernelspec": {
   "display_name": "Python 3",
   "language": "python",
   "name": "python3"
  },
  "language_info": {
   "codemirror_mode": {
    "name": "ipython",
    "version": 2
   },
   "file_extension": ".py",
   "mimetype": "text/x-python",
   "name": "python",
   "nbconvert_exporter": "python",
   "pygments_lexer": "ipython2",
   "version": "2.7.6"
  }
 },
 "nbformat": 4,
 "nbformat_minor": 0
}
